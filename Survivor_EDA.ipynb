{
 "cells": [
  {
   "cell_type": "markdown",
   "metadata": {},
   "source": [
    "<h1 style='text-align: center;'>Survivor:</h1>\n",
    "<h2 style='text-align: center;'>Exploring Contestant Trends Through Data</h2>"
   ]
  },
  {
   "cell_type": "markdown",
   "metadata": {},
   "source": [
    "This projects aims to look at the long-running CBS show Survivor over the years, and determine what demographics of contestants are more likely to win.\n",
    "\n",
    "We will also be looking to see if there are any trends where certain demographics have lower chances of winning.\n"
   ]
  },
  {
   "cell_type": "code",
   "execution_count": 28,
   "metadata": {},
   "outputs": [],
   "source": [
    "import pandas as pd\n",
    "import matplotlib as plt\n",
    "import sqlite3\n"
   ]
  },
  {
   "cell_type": "markdown",
   "metadata": {},
   "source": [
    "### Importing Data"
   ]
  },
  {
   "cell_type": "code",
   "execution_count": 29,
   "metadata": {},
   "outputs": [],
   "source": [
    "# I think it will be more difficult than worth to try and get function to create csv if they don't exist\n",
    "seasons = pd.read_csv('seasons.csv')\n",
    "contestants = pd.read_csv('contestants.csv')\n",
    "stats = pd.read_csv('stats.csv')\n",
    "idols = pd.read_csv('idols.csv')\n",
    "advantages = pd.read_csv('advantages.csv')\n",
    "immunities = pd.read_csv('immunities.csv')"
   ]
  },
  {
   "cell_type": "markdown",
   "metadata": {},
   "source": [
    "### Cleaning Data"
   ]
  },
  {
   "cell_type": "code",
   "execution_count": null,
   "metadata": {},
   "outputs": [],
   "source": [
    "def clean_and_merge():\n",
    "    # drop columns\n",
    "    advantages = advantages.drop(columns=['Rank', 'Contestant', 'VV', 'VFB', 'Tie broken?'], )\n",
    "    idols = idols.drop(columns=['Rank', 'Contestant'], )\n",
    "    immunities = immunities.drop(columns=['Rank', 'Contstant'], )\n",
    "    # change column names / strip values (Season column of S, idols table of special characters (*,))\n",
    "    \n",
    "    pass # will be used to clean idols, advantages, and immunities. \n",
    "# this includes dropping unnecessary columns, stripping values of unnessary charaters, and renaming columns to be more readable\n",
    "# will likely also use this function to merge all together with stats table, on contestant column(s)\n",
    "# (i think merging will get rid of duplicate columns the data is merged on. may need to after the fact)\n",
    "# Also will rename stats table values. after merge?\n",
    "\n",
    "# will need to create and run a pytest for this to ensure it works correctly?"
   ]
  },
  {
   "cell_type": "code",
   "execution_count": null,
   "metadata": {},
   "outputs": [],
   "source": [
    "# List of Column name meanings (To potentially update to later):\n",
    "# -- Stats table --\n",
    "# SurvSc: Survival Score\n",
    "# SurvAv: Survival Average\n",
    "# ChW: Challenge Wins\n",
    "# ChA: Challenge Appearances\n",
    "# ChW%: Challenge Win %\n",
    "# SO: Sit Outs\n",
    "# VFB: Votes For Bootee\n",
    "# VAP: Votes Against (Total)\n",
    "# TotV: Total Votes Cast\n",
    "# TCA: Tribal Council Appearances\n",
    "# TC%: Tribal Council %\n",
    "# wTCR: Tribal Council Ratio (weighted)\n",
    "# JVF: Jury Votes For \n",
    "# TotJ: Total Number Of Jurors\n",
    "# JV%: Jury Votes %\n",
    "# -- Idols --\n",
    "# IF: Idols founds\n",
    "# IH: Idols held\n",
    "# IP: Idols Played\n",
    "# VV: Votes voided\n",
    "# -- Advantages --\n",
    "# AF: Advantage found\n",
    "# AP: Advantage played\n",
    "# VV: Votes voided - redundant (idol list includes advantagess this is relevant to)\n",
    "# VFB: Votes for booted player (If adv. extra or steal a vote. Will likely drop)\n",
    "# Tie broken? Only applies to 2 vote block advantages, will drop\n",
    "# -- Immunity Wins --\n",
    "# ICW: Individual (immunity) challenge wins\n",
    "# ICA: Challenge appearances - similar to stats ChW/ChA (but exclusive to individual)"
   ]
  },
  {
   "cell_type": "markdown",
   "metadata": {},
   "source": [
    "### Exploratory Data Analysis"
   ]
  }
 ],
 "metadata": {
  "kernelspec": {
   "display_name": "venv",
   "language": "python",
   "name": "python3"
  },
  "language_info": {
   "codemirror_mode": {
    "name": "ipython",
    "version": 3
   },
   "file_extension": ".py",
   "mimetype": "text/x-python",
   "name": "python",
   "nbconvert_exporter": "python",
   "pygments_lexer": "ipython3",
   "version": "3.13.1"
  }
 },
 "nbformat": 4,
 "nbformat_minor": 2
}
