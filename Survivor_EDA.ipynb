{
 "cells": [
  {
   "cell_type": "markdown",
   "metadata": {},
   "source": [
    "<h1 style='text-align: center;'>Survivor:</h1>\n",
    "<h2 style='text-align: center;'>Exploring Contestant Trends Through Data</h2>"
   ]
  },
  {
   "cell_type": "markdown",
   "metadata": {},
   "source": [
    "This projects aims to look at the long-running CBS show Survivor over the years, and determine what demographics of contestants are more likely to win.\n",
    "\n",
    "We will also be looking to see if there are any trends where certain demographics have lower chances of winning.\n"
   ]
  },
  {
   "cell_type": "code",
   "execution_count": null,
   "metadata": {},
   "outputs": [],
   "source": [
    "import pandas as pd\n",
    "import matplotlib as plt\n",
    "import sqlite3\n",
    "# Data pulled in/ saved to csv from 2/13/2025"
   ]
  },
  {
   "cell_type": "markdown",
   "metadata": {},
   "source": [
    "### Importing Data"
   ]
  },
  {
   "cell_type": "code",
   "execution_count": 30,
   "metadata": {},
   "outputs": [],
   "source": [
    "# I think it will be more difficult than worth to try and get function to create csv if they don't exist\n",
    "seasons = pd.read_csv('seasons.csv')\n",
    "contestants = pd.read_csv('contestants.csv')\n",
    "stats = pd.read_csv('stats.csv')\n",
    "idols = pd.read_csv('idols.csv')\n",
    "advantages = pd.read_csv('advantages.csv')\n",
    "immunities = pd.read_csv('immunities.csv')"
   ]
  },
  {
   "cell_type": "markdown",
   "metadata": {},
   "source": [
    "### Cleaning Data"
   ]
  },
  {
   "cell_type": "code",
   "execution_count": null,
   "metadata": {},
   "outputs": [],
   "source": [
    "def clean_and_merge():\n",
    "    \"\"\"\n",
    "    Cleans tables for advantages, idols and immunities, then merges them to the stats table.\n",
    "    \"\"\"\n",
    "    # drop columns\n",
    "    advantages = advantages.drop(columns=['Rank', 'Contestant', 'VV', 'VFB', 'Tie broken?'])\n",
    "    idols = idols.drop(columns=['Rank', 'Contestant'])\n",
    "    immunities = immunities.drop(columns=['Rank', 'Contstant'])\n",
    "    # change column names \n",
    "    advantages.columns = advantages.columns.str.strip().str.replace('.1', '')\n",
    "    idols.columns = idols.columns.str.strip().str.replace('.1', '')\n",
    "    immunities.columns = immunities.columns.str.strip().str.replace('.1', '')\n",
    "    # strip and replace values (Season column of S, idols table of special characters (*,†/+,#))\n",
    "    advantages['Season'] = advantages['Season'].str.replace('S', '')\n",
    "    advantages['Season'] = advantages['Season'].replace({\n",
    "        'Game Changers': 34,\n",
    "        'David vs. Goliath': 37,\n",
    "        'Winners at War': 40,\n",
    "        'Cambodia': 31,\n",
    "        'Island of the Idols': 39,\n",
    "        'HvHvH': 35,\n",
    "        'Worlds Apart': 30,\n",
    "        'Kaoh Rong': 32,\n",
    "        'Ghost Island': 36,\n",
    "        'urvivor 42': 42,\n",
    "        'Edge of Extinction': 38,\n",
    "        'MvGX': 33   \n",
    "    })\n",
    "    advantages['Season'] = advantages['Season'].astype(int) # hopefully the other two go more smoothly\n",
    "\n",
    "    idols['Season'] = idols['Season'].str.replace('S', '') \n",
    "    idols['Contestant'] = idols['Contestant'].str.rstrip('*').str.rstrip('#').str.rstrip('+')\n",
    "    idols['IH'] = idols['IH'].str.rstrip('*').str.rstrip('#').str.rstrip('+')\n",
    "    idols['IP'] = idols['IP'].str.rstrip('*').str.rstrip('#').str.rstrip('+')\n",
    "    idols['VV'] = idols['VV'].str.rstrip('†').str.rstrip('#')\n",
    "    idols = idols.drop(idols[idols['Season'] == '--'].index)\n",
    "    idols['IH'] = idols['IH'].astype(int)\n",
    "    idols['IP'] = idols['IP'].astype(int)\n",
    "    idols['VV'] = idols['VV'].astype(int)\n",
    "    idols['Season'] = idols['Season'].astype(int)\n",
    "\n",
    "    immunities['Season'] = immunities['Season'].str.split(':').str[0]\n",
    "    immunities['Season'] = immunities['Season'].str.strip('Survivor').str.strip('S')\n",
    "    immunities['Season'] = immunities['Season'].astype(int)\n",
    "    # merge advantages/idols/immunities together (before merging them to stats?)\n",
    "    # will need to merge tables to stats on Contestant col, but also on Season?\n",
    "    \n",
    "    pass # will be used to clean idols, advantages, and immunities. \n",
    "# this includes dropping unnecessary columns, stripping values of unnessary charaters, and renaming columns to be more readable\n",
    "# will likely also use this function to merge all together with stats table, on contestant column(s)\n",
    "# (i think merging will get rid of duplicate columns the data is merged on. may need to after the fact)\n",
    "# Also will rename stats table values. after merge?\n",
    "\n",
    "# will need to create and run a pytest for this to ensure it works correctly?"
   ]
  },
  {
   "cell_type": "code",
   "execution_count": null,
   "metadata": {},
   "outputs": [],
   "source": [
    "# List of Column name meanings (To potentially update to later):\n",
    "# -- Stats table --\n",
    "# SurvSc: Survival Score\n",
    "# SurvAv: Survival Average\n",
    "# ChW: Challenge Wins\n",
    "# ChA: Challenge Appearances\n",
    "# ChW%: Challenge Win %\n",
    "# SO: Sit Outs\n",
    "# VFB: Votes For Bootee\n",
    "# VAP: Votes Against (Total)\n",
    "# TotV: Total Votes Cast\n",
    "# TCA: Tribal Council Appearances\n",
    "# TC%: Tribal Council %\n",
    "# wTCR: Tribal Council Ratio (weighted)\n",
    "# JVF: Jury Votes For \n",
    "# TotJ: Total Number Of Jurors\n",
    "# JV%: Jury Votes %\n",
    "# -- Idols --\n",
    "# IF: Idols founds\n",
    "# IH: Idols held\n",
    "# IP: Idols Played\n",
    "# VV: Votes voided\n",
    "# -- Advantages --\n",
    "# AF: Advantage found\n",
    "# AP: Advantage played\n",
    "# VV: Votes voided - redundant (idol list includes advantagess this is relevant to)\n",
    "# VFB: Votes for booted player (If adv. extra or steal a vote. Will likely drop)\n",
    "# Tie broken? Only applies to 2 vote block advantages, will drop\n",
    "# -- Immunity Wins --\n",
    "# ICW: Individual (immunity) challenge wins\n",
    "# ICA: Challenge appearances - similar to stats ChW/ChA (but exclusive to individual)"
   ]
  },
  {
   "cell_type": "markdown",
   "metadata": {},
   "source": [
    "### Exploratory Data Analysis"
   ]
  }
 ],
 "metadata": {
  "kernelspec": {
   "display_name": "venv",
   "language": "python",
   "name": "python3"
  },
  "language_info": {
   "codemirror_mode": {
    "name": "ipython",
    "version": 3
   },
   "file_extension": ".py",
   "mimetype": "text/x-python",
   "name": "python",
   "nbconvert_exporter": "python",
   "pygments_lexer": "ipython3",
   "version": "3.13.1"
  }
 },
 "nbformat": 4,
 "nbformat_minor": 2
}
